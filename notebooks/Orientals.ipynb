{
 "cells": [
  {
   "cell_type": "markdown",
   "metadata": {},
   "source": [
    "# Orientals\n",
    "\n",
    "## Introduction"
   ]
  },
  {
   "cell_type": "markdown",
   "metadata": {},
   "source": [
    "## $\\omega$-categories"
   ]
  },
  {
   "cell_type": "markdown",
   "metadata": {},
   "source": [
    "## Strong augmented directed complexes"
   ]
  },
  {
   "cell_type": "markdown",
   "metadata": {},
   "source": [
    "## Simplices"
   ]
  },
  {
   "cell_type": "code",
   "execution_count": null,
   "metadata": {},
   "outputs": [],
   "source": [
    "from wcat import Simplex\n",
    "\n",
    "x = Simplex.standard(2)\n",
    "y = Simplex((1,2,3))\n",
    "print(x, y)"
   ]
  },
  {
   "cell_type": "markdown",
   "metadata": {},
   "source": [
    "### Boundary"
   ]
  },
  {
   "cell_type": "code",
   "execution_count": null,
   "metadata": {},
   "outputs": [],
   "source": [
    "x.boundary()"
   ]
  },
  {
   "cell_type": "markdown",
   "metadata": {},
   "source": [
    "### Total order"
   ]
  },
  {
   "cell_type": "code",
   "execution_count": null,
   "metadata": {},
   "outputs": [],
   "source": [
    "from itertools import combinations\n",
    "\n",
    "n = 3\n",
    "simplices = []\n",
    "for i in range(1, n+1):\n",
    "    for spx in combinations(range(n+1), i):\n",
    "        simplices.append(Simplex(spx))\n",
    "\n",
    "simplices = sorted(simplices)\n",
    "\n",
    "simplices"
   ]
  },
  {
   "cell_type": "markdown",
   "metadata": {},
   "source": [
    "## $\\mu$-elements"
   ]
  },
  {
   "cell_type": "markdown",
   "metadata": {},
   "source": [
    "### Atoms"
   ]
  },
  {
   "cell_type": "code",
   "execution_count": null,
   "metadata": {},
   "outputs": [],
   "source": [
    "from wcat import Mu_element\n",
    "\n",
    "x = Simplex.standard(2).atom()\n",
    "print(x)"
   ]
  },
  {
   "cell_type": "markdown",
   "metadata": {},
   "source": [
    "### k-source and target "
   ]
  },
  {
   "cell_type": "code",
   "execution_count": null,
   "metadata": {
    "scrolled": true
   },
   "outputs": [],
   "source": [
    "x = Simplex.standard(2).atom()\n",
    "print(x.target(1))"
   ]
  },
  {
   "cell_type": "markdown",
   "metadata": {},
   "source": [
    "### Composition"
   ]
  },
  {
   "cell_type": "code",
   "execution_count": null,
   "metadata": {},
   "outputs": [],
   "source": [
    "x = Simplex((0, 1)).atom()\n",
    "y = Simplex((1, 2, 3)).atom()\n",
    "answer = x.compose(y, 0)\n",
    "print(f'x o_{0} y = \\n{answer}')"
   ]
  },
  {
   "cell_type": "markdown",
   "metadata": {},
   "source": [
    "### Decomposition"
   ]
  },
  {
   "cell_type": "code",
   "execution_count": null,
   "metadata": {},
   "outputs": [],
   "source": [
    "d = 6\n",
    "x = Simplex.standard(d).atom()\n",
    "y = x.source(d-1)\n",
    "print(f'{d-1}-source : ', y.decompose(), '\\n')\n",
    "z = x.target(d-1)\n",
    "print(f'{d-1}-target : ', z.decompose(), '\\n')     \n",
    "    \n",
    "from simplicial_operators import steenrod_diagonal\n",
    "from simplicial_operators import Operator\n",
    "\n",
    "i = 3 # cup-i\n",
    "n = d\n",
    "for i in reversed(range(d-1)):\n",
    "    pairs = list(Operator.action(steenrod_diagonal(i,n), (range(n+1),)*2))\n",
    "    filtered = [(Simplex(pair[0]), Simplex(pair[1])) for pair in pairs if \n",
    "                pair[0] != tuple(range(d+1)) and pair[1] != tuple(range(d+1))]\n",
    "    sorted(filtered, key=lambda pair: pair[0])\n",
    "    print(f'D({i}, {n}):', filtered, \"\\n\")"
   ]
  }
 ],
 "metadata": {
  "kernelspec": {
   "display_name": "Python 3",
   "language": "python",
   "name": "python3"
  },
  "language_info": {
   "codemirror_mode": {
    "name": "ipython",
    "version": 3
   },
   "file_extension": ".py",
   "mimetype": "text/x-python",
   "name": "python",
   "nbconvert_exporter": "python",
   "pygments_lexer": "ipython3",
   "version": "3.7.3"
  }
 },
 "nbformat": 4,
 "nbformat_minor": 2
}
